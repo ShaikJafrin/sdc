{
  "nbformat": 4,
  "nbformat_minor": 0,
  "metadata": {
    "colab": {
      "provenance": [],
      "authorship_tag": "ABX9TyPg6ZrMo/wulzaQsxVxYH3r",
      "include_colab_link": true
    },
    "kernelspec": {
      "name": "python3",
      "display_name": "Python 3"
    },
    "language_info": {
      "name": "python"
    }
  },
  "cells": [
    {
      "cell_type": "markdown",
      "metadata": {
        "id": "view-in-github",
        "colab_type": "text"
      },
      "source": [
        "<a href=\"https://colab.research.google.com/github/ShaikJafrin/sdc/blob/main/energy_csv.ipynb\" target=\"_parent\"><img src=\"https://colab.research.google.com/assets/colab-badge.svg\" alt=\"Open In Colab\"/></a>"
      ]
    },
    {
      "cell_type": "code",
      "execution_count": null,
      "metadata": {
        "id": "Wmb7idVTTED-"
      },
      "outputs": [],
      "source": [
        "import pandas as pd\n",
        "import numpy as np\n",
        "import matplotlib.pyplot as plt\n",
        "from pandas import read_csv\n",
        "path=\"/content/drive/My Drive/energy.csv\"\n",
        "electricity=pd.read_csv(path)\n",
        "print(electricity)\n",
        "print(electricity.shape)\n",
        "print(electricity.head(5))\n",
        "print(electricity.tail(4))\n",
        "print(electricity.info())\n",
        "print(electricity.describe())\n",
        "print('Coloumn Data')\n",
        "print(electricity.columns)\n",
        "print(electricity[electricity['State'].str.startswith('M')])\n",
        "print(electricity[electricity['State'].str.endswith('a')])\n",
        "rcb=electricity[electricity['State']=='Andhra']\n",
        "print(len(rcb))\n",
        "r=electricity[electricity['State']=='Manipur']\n",
        "print(len(r))\n",
        "print(electricity.sort_values(by='State'))\n",
        "print(np.max(electricity['Consumption']))\n",
        "print(np.min(electricity['Consumption']))\n",
        "print(np.mean(electricity['Consumption']))\n",
        "print(electricity[electricity['State']=='Andhra']['Consumption'].max())\n",
        "print(electricity[electricity['State']=='Andhra']['Consumption'].min())\n",
        "state1_data=electricity[electricity.State=='Andhra']\n",
        "print(\"Andhra Data\")\n",
        "print(state1_data)\n",
        "state2_data=electricity[electricity['State']=='Karnataka']\n",
        "print(state2_data)\n",
        "state4_data=electricity[electricity['State']=='Telangana']\n",
        "print(state4_data)\n",
        "state5_data=electricity[electricity['State']=='Tripura']\n",
        "print(state5_data)\n",
        "#line chart\n",
        "fig,axes=plt.subplots(2)\n",
        "axes[0].plot(state1_data['Date'],state1_data['Consumption'],marker='*',color='red')\n",
        "axes[1].plot(state2_data['Date'],state1_data['Consumption'],marker='^',color='green')\n",
        "#bar chart\n",
        "fig1,axes1=plt.subplots(2)\n",
        "axes1[0].bar(state4_data['Date'],state4_data['Consumption'],color='yellow')\n",
        "axes1[1].bar(state5_data['Date'],state5_data['Consumption'],color='pink')\n",
        "#pie chart\n",
        "fig2,axes2=plt.subplots(2)\n",
        "state1='UP'\n",
        "state2='Kerala'\n",
        "state4='Mizoram'\n",
        "state5='Delhi'\n",
        "labels=[state1,state2]\n",
        "state1_total=electricity[electricity['State']==state1]['Consumption'].sum()\n",
        "state2_total=electricity[electricity['State']==state2]['Consumption'].sum()\n",
        "energy=[state1_total,state2_total]\n",
        "axes2[0].pie(energy,labels=labels,autopct='%1.1f%%')\n"
      ]
    }
  ]
}